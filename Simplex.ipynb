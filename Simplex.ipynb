{
 "cells": [
  {
   "cell_type": "markdown",
   "metadata": {},
   "source": [
    "# Proyecto de Programación Lineal\n",
    "## Programación del Método Simplex"
   ]
  },
  {
   "cell_type": "code",
   "execution_count": 15,
   "metadata": {},
   "outputs": [],
   "source": [
    "import numpy as np\n",
    "import pandas as pd # Para imprimir\n",
    "np.set_printoptions(formatter={'float': lambda x: \"{0:0.1f}\".format(x)}) # Para que enseñe nada más 3 decimales"
   ]
  },
  {
   "cell_type": "code",
   "execution_count": 16,
   "metadata": {},
   "outputs": [],
   "source": [
    "def matriz_t0(A, b, c, M):\n",
    "    '''\n",
    "    Método para obtener la tabla cero del problema usando el método\n",
    "    de la Gran M.\n",
    "\n",
    "    EJEMPLO DE USO:\n",
    "    >>> A = np.array([[3, 4, 1, 0],\n",
    "                     [ 2,-1, 0,-1]])\n",
    "    >>> b = np.array([20,2])\n",
    "    >>> c = np.array([1, 1, 0, 0])\n",
    "    >>> M = 100\n",
    "    >>> matriz_t0(A, b, c, M)\n",
    "    array([[  3.,   4.,   1.,   0.,   1.,   0.,  20.],\n",
    "           [  2.,  -1.,   0.,  -1.,   0.,   1.,   2.],                                                                             [  1.,   1.,   0.,   0., 100., 100.,   0.]])  \n",
    "    '''\n",
    "    m = len(A)\n",
    "    canon = np.eye(m, dtype=int)                     # Matriz identidad mxm\n",
    "    mat1 = np.concatenate((A,canon), axis=1)         # Pegamos A con la identidad\n",
    "    cr = np.append(c,[M]*m)                          # Vector de costos relativos\n",
    "    mat1 = np.concatenate((mat1, np.array([cr])))    # Pegamos la matriz con los costos relativos\n",
    "    b_ext = np.array([np.append(b, 0)])              # Construcción del vector b\n",
    "    \n",
    "    # Regresamos la matriz extendida con b\n",
    "    return np.concatenate((mat1, b_ext.T), axis=1).astype('float64')"
   ]
  },
  {
   "cell_type": "code",
   "execution_count": 17,
   "metadata": {},
   "outputs": [],
   "source": [
    "def reglaDeBland(tablaSimplex):\n",
    "    '''\n",
    "    Queremos la columna más a la izquierda con cr < 0.\n",
    "    Si hay empate en el criterio de la variable de salida,\n",
    "    elegimos la más arriba\n",
    "    '''\n",
    "    cr = tablaSimplex[-1][:-1] # costos relativos\n",
    "    busq = np.where(cr < 0)[0]\n",
    "    \n",
    "    if len(busq) == 0: # No encontró; fin del problema\n",
    "        return -1, -1\n",
    "    else:\n",
    "        colSal = busq[0]\n",
    "        \n",
    "    bk = tablaSimplex[:, -1]\n",
    "    yk = tablaSimplex[:, colSal]\n",
    "    \n",
    "    by = np.empty(0)\n",
    "    for b,y in zip(bk,yk):\n",
    "        if y > 0:\n",
    "            by = np.append(by, b/y)\n",
    "        else:\n",
    "            by = np.append(by, -1)\n",
    "    \n",
    "    valid = np.where(by >= 0)[0]\n",
    "    \n",
    "    if len(valid) == 0: # Todas las variables son menores que cero\n",
    "        return -1, -2\n",
    "    \n",
    "    renglonSal = valid[by[valid].argmin()]\n",
    "    \n",
    "    return renglonSal, colSal"
   ]
  },
  {
   "cell_type": "code",
   "execution_count": 18,
   "metadata": {},
   "outputs": [],
   "source": [
    "def pivoteo(tablaSimplex):\n",
    "    '''\n",
    "    Dada una tabla Simplex, este método pivotea sobre el elemento \n",
    "    que dictamina la regla de Bland y regresa el resultado.\n",
    "    '''\n",
    "    renglonSal, colSal = reglaDeBland(tablaSimplex)\n",
    "    \n",
    "    if colSal < 0: # Condiciones para detenerse\n",
    "        return tablaSimplex, colSal\n",
    "    \n",
    "    m = len(tablaSimplex)\n",
    "    \n",
    "    valorPivoteo = tablaSimplex[renglonSal][colSal]\n",
    "    tablaSimplex[renglonSal] = tablaSimplex[renglonSal] / valorPivoteo\n",
    "    \n",
    "    for i in range(m):\n",
    "        if i != renglonSal and tablaSimplex[i][colSal] != 0:\n",
    "            tablaSimplex[i] -= tablaSimplex[i][colSal] * tablaSimplex[renglonSal]\n",
    "    \n",
    "    return tablaSimplex, 1"
   ]
  },
  {
   "cell_type": "code",
   "execution_count": 29,
   "metadata": {},
   "outputs": [],
   "source": [
    "def checkEmptiness(table, M):\n",
    "    \n",
    "    m = len(table)\n",
    "    \n",
    "    table = np.array(table)\n",
    "    \n",
    "    ylast = table[-1][-m:-1]\n",
    "    \n",
    "    if np.any((ylast == 0)):\n",
    "        for col in np.where(ylast == 0)[0]:\n",
    "            column = table[:,col]\n",
    "            if column.size == np.count_nonzero((column==0) | (column==1)) and 1 == np.count_nonzero(column==1):\n",
    "                y = np.where(column == 1)[0]\n",
    "                if table[:,-1][y] > 0:\n",
    "                    return True\n",
    "    else:\n",
    "        return False\n",
    "    return False"
   ]
  },
  {
   "cell_type": "code",
   "execution_count": 20,
   "metadata": {},
   "outputs": [],
   "source": [
    "def solver(A,b,c,M=100):\n",
    "    '''\n",
    "    Método para resolver un PPL planteado en su forma estándar. Utiliza\n",
    "    el método de la Gran M y Simplex. Regresa la tabla en su forma final\n",
    "    y el resultado de la función objetivo.\n",
    "    '''\n",
    "    t0 =  matriz_t0(A, b, c,M)\n",
    "    \n",
    "    for i in range(len(A)):\n",
    "        t0[-1] = t0[i]*(-M) + t0[-1]\n",
    "    \n",
    "    print(\"Tabla inicial:\")\n",
    "    printMat(t0)\n",
    "    print('')\n",
    "    \n",
    "    t1, z = pivoteo(t0) # Aquí z es la columna de salida y la usamos como control para saber si terminó.\n",
    "    \n",
    "    while z >= 0:\n",
    "        t1, z = pivoteo(t1)\n",
    "        \n",
    "    if checkEmptiness(t1,M):\n",
    "        print(\"ESPACIO DE SOLUCIÓN VACÍO; última versión de la tabla:\")\n",
    "        return t1, np.nan \n",
    "    \n",
    "    if z == -2: # no está acotado\n",
    "        print(\"PROBLEMA NO ACOTADO; última versión de la tabla:\")\n",
    "        return t1, np.nan\n",
    "    \n",
    "    return t1, (-1)*t1[-1][-1]"
   ]
  },
  {
   "cell_type": "code",
   "execution_count": 21,
   "metadata": {},
   "outputs": [],
   "source": [
    "def printMat(t):\n",
    "    df = pd.DataFrame(t)\n",
    "    with pd.option_context('display.max_rows', None,\n",
    "                           'display.max_columns', None,\n",
    "                           'display.precision', 3,\n",
    "                           ):\n",
    "        print(df)"
   ]
  },
  {
   "cell_type": "markdown",
   "metadata": {},
   "source": [
    "## Pruebas con los problemas planteados por los alumnos"
   ]
  },
  {
   "cell_type": "code",
   "execution_count": 8,
   "metadata": {},
   "outputs": [
    {
     "name": "stdout",
     "output_type": "stream",
     "text": [
      "Tabla inicial:\n",
      "       0      1      2      3    4    5       6\n",
      "0    3.0    4.0    1.0    0.0  1.0  0.0    20.0\n",
      "1    2.0   -1.0    0.0   -1.0  0.0  1.0     2.0\n",
      "2 -499.0 -299.0 -100.0  100.0  0.0  0.0 -2200.0\n",
      "\n",
      "Tabla final:\n",
      "     0    1    2    3      4     5     6\n",
      "0  0.0  5.5  1.0  1.5    1.0  -1.5  17.0\n",
      "1  1.0 -0.5  0.0 -0.5    0.0   0.5   1.0\n",
      "2  0.0  1.5  0.0  0.5  100.0  99.5  -1.0\n",
      "El valor de la función objetivo es: 1.0000000000002132\n"
     ]
    }
   ],
   "source": [
    "c = np.array([1, 1, 0, 0])\n",
    "A = np.array([[3, 4, 1, 0],\n",
    "            [ 2,-1, 0,-1]])\n",
    "b = np.array([20,2])\n",
    "M = 100\n",
    "\n",
    "t1, z = solver(A, b, c, M)\n",
    "print(\"Tabla final:\")\n",
    "printMat(t1)\n",
    "print(f\"El valor de la función objetivo es: {z}\")"
   ]
  },
  {
   "cell_type": "code",
   "execution_count": 9,
   "metadata": {},
   "outputs": [
    {
     "name": "stdout",
     "output_type": "stream",
     "text": [
      "Tabla inicial:\n",
      "       0      1       2      3      4     5    6    7    8       9\n",
      "0    0.0    5.0    50.0    1.0    1.0   0.0  1.0  0.0  0.0    10.0\n",
      "1    1.0  -15.0     2.0    0.0    0.0   0.0  0.0  1.0  0.0     2.0\n",
      "2    0.0    1.0     1.0    0.0    1.0   1.0  0.0  0.0  1.0     6.0\n",
      "3 -100.0  891.0 -5301.0 -100.0 -198.0 -99.0  0.0  0.0  0.0 -1800.0\n",
      "\n",
      "Tabla final:\n",
      "     0    1      2    3    4    5      6      7     8     9\n",
      "0  0.0  1.0   10.0  0.2  0.2  0.0    0.2    0.0   0.0   2.0\n",
      "1  1.0  0.0  152.0  3.0  3.0  0.0    3.0    1.0   0.0  32.0\n",
      "2  0.0  0.0   -9.0 -0.2  0.8  1.0   -0.2    0.0   1.0   4.0\n",
      "3  0.0  0.0   98.0  2.0  3.0  0.0  102.0  100.0  99.0  14.0\n",
      "\n",
      "El valor de la función objetivo es: -14.0\n"
     ]
    }
   ],
   "source": [
    "c1 = np.array([0, -9, -1, 0, 2, 1])\n",
    "A1 = np.array([[0, 5, 50, 1, 1, 0],\n",
    "               [1, -15, 2, 0, 0, 0],\n",
    "               [0, 1, 1, 0, 1, 1]])\n",
    "b1 = np.array([10, 2, 6])\n",
    "t1, z1 = solver(A1, b1, c1, M)\n",
    "print(\"Tabla final:\")\n",
    "printMat(t1)\n",
    "print(f\"\\nEl valor de la función objetivo es: {z1}\")"
   ]
  },
  {
   "cell_type": "code",
   "execution_count": 10,
   "metadata": {},
   "outputs": [
    {
     "name": "stdout",
     "output_type": "stream",
     "text": [
      "Tabla inicial:\n",
      "       0      1      2      3    4    5      6\n",
      "0   -1.0    1.0    1.0    0.0  1.0  0.0    5.0\n",
      "1    2.0    2.0    0.0   -1.0  0.0  1.0    4.0\n",
      "2 -103.0 -299.0 -100.0  100.0  0.0  0.0 -900.0\n",
      "\n",
      "PROBLEMA NO ACOTADO; última versión de la tabla:\n",
      "Tabla final:\n",
      "     0    1    2    3      4      5    6\n",
      "0  0.0  2.0  1.0 -0.5    1.0    0.5  7.0\n",
      "1  1.0  1.0  0.0 -0.5    0.0    0.5  2.0\n",
      "2  0.0  4.0  0.0 -1.5  100.0  101.5  6.0\n",
      "\n",
      "El valor de la función objetivo es: nan\n"
     ]
    }
   ],
   "source": [
    "c2 = np.array([-3, 1, 0, 0])\n",
    "A2 = np.array([[-1, 1, 1, 0],\n",
    "            [2, 2, 0, -1]])\n",
    "b2 = np.array([5, 4])\n",
    "t2, z2 = solver(A2, b2, c2, M)\n",
    "print(\"Tabla final:\")\n",
    "printMat(t2)\n",
    "print(f\"\\nEl valor de la función objetivo es: {z2}\")"
   ]
  },
  {
   "cell_type": "code",
   "execution_count": 11,
   "metadata": {},
   "outputs": [
    {
     "name": "stdout",
     "output_type": "stream",
     "text": [
      "Tabla inicial:\n",
      "       0      1      2      3    4    5       6\n",
      "0    1.0    1.0    1.0    0.0  1.0  0.0    12.0\n",
      "1    2.0    1.0    0.0    1.0  0.0  1.0    16.0\n",
      "2 -340.0 -230.0 -100.0 -100.0  0.0  0.0 -2800.0\n",
      "\n",
      "Tabla final:\n",
      "     0    1     2     3      4      5      6\n",
      "0  0.0  1.0   2.0  -1.0    2.0   -1.0    8.0\n",
      "1  1.0  0.0  -1.0   1.0   -1.0    1.0    4.0\n",
      "2  0.0  0.0  20.0  10.0  120.0  110.0  400.0\n",
      "\n",
      "El valor de la función objetivo es: -400.0\n"
     ]
    }
   ],
   "source": [
    "c3 = np.array([-40, -30, 0, 0])\n",
    "A3 = np.array([[1, 1, 1, 0],\n",
    "              [2, 1, 0, 1]])\n",
    "b3 = np.array([12, 16])\n",
    "t3, z3 = solver(A3, b3, c3, M)\n",
    "print(\"Tabla final:\")\n",
    "printMat(t3)\n",
    "print(f\"\\nEl valor de la función objetivo es: {z3}\")"
   ]
  },
  {
   "cell_type": "markdown",
   "metadata": {},
   "source": [
    "## Pruebas con los problemas planteados por el profesor"
   ]
  },
  {
   "cell_type": "code",
   "execution_count": 12,
   "metadata": {},
   "outputs": [
    {
     "name": "stdout",
     "output_type": "stream",
     "text": [
      "Tabla inicial:\n",
      "       0       1       2       3       4       5       6       7       8   \\\n",
      "0     1.0     1.0     1.0     1.0     1.0     1.0     1.0     1.0     1.0   \n",
      "1     4.0     4.0     4.0     4.0     4.0     4.0     4.0     4.0     4.0   \n",
      "2     0.0     0.0     4.0     0.0     0.0     0.0     0.0     0.0     0.0   \n",
      "3     0.0     0.0     0.0     0.0     0.0     0.0     0.0     0.0     0.0   \n",
      "4     0.0     0.0     0.0     0.0     0.0     0.0     0.0     0.0     0.0   \n",
      "5     2.0     4.0     0.0     0.0     0.0     0.0     0.0     0.0     0.0   \n",
      "6 -6999.0 -8999.0 -8999.0 -4999.0 -4999.0 -4999.0 -4999.0 -4999.0 -4999.0   \n",
      "\n",
      "       9       10      11      12      13      14      15      16      17  \\\n",
      "0     1.0     1.0     1.0     1.0     1.0     1.0     1.0     1.0     1.0   \n",
      "1     4.0     4.0     4.0     4.0     4.0     4.0     4.0     4.0     4.0   \n",
      "2     0.0     0.0     0.0     0.0     0.0     0.0     0.0     4.0     0.0   \n",
      "3     0.0     0.0     0.0     0.0     0.0     0.0     0.0     0.0     0.0   \n",
      "4     0.0     0.0     0.0     0.0     0.0     0.0     0.0     0.0     0.0   \n",
      "5     0.0     0.0     0.0     0.0     0.0     0.0     0.0     0.0     0.0   \n",
      "6 -4999.0 -4999.0 -4999.0 -4999.0 -4999.0 -4999.0 -4999.0 -8999.0 -4999.0   \n",
      "\n",
      "       18      19      20      21      22      23      24      25      26  \\\n",
      "0     1.0     0.0     0.0     0.0     0.0     0.0     0.0     0.0     0.0   \n",
      "1     0.0     0.0     0.0     0.0    -1.0     0.0     0.0     0.0     0.0   \n",
      "2     0.0     0.0     1.0    -1.0     0.0    -1.0     0.0     0.0     0.0   \n",
      "3     0.0     1.0    -1.0     1.0     0.0     0.0    -1.0     0.0     0.0   \n",
      "4     0.0     1.0     1.0    -1.0     0.0     0.0     0.0    -1.0     0.0   \n",
      "5     0.0     0.0     1.0    -1.0     0.0     0.0     0.0     0.0     1.0   \n",
      "6 -1001.0 -2001.0 -2000.0  2000.0  1000.0  1000.0  1000.0  1000.0 -1000.0   \n",
      "\n",
      "    27   28   29   30   31   32      33  \n",
      "0  1.0  0.0  0.0  0.0  0.0  0.0     2.0  \n",
      "1  0.0  1.0  0.0  0.0  0.0  0.0     2.0  \n",
      "2  0.0  0.0  1.0  0.0  0.0  0.0     0.0  \n",
      "3  0.0  0.0  0.0  1.0  0.0  0.0     0.0  \n",
      "4  0.0  0.0  0.0  0.0  1.0  0.0     0.0  \n",
      "5  0.0  0.0  0.0  0.0  0.0  1.0     2.0  \n",
      "6  0.0  0.0  0.0  0.0  0.0  0.0 -6000.0  \n",
      "\n",
      "PROBLEMA NO ACOTADO; última versión de la tabla:\n",
      "Tabla final:\n",
      "    0    1    2    3    4    5    6    7    8    9    10   11   12   13   14  \\\n",
      "0  0.5  0.0  2.0  1.0  1.0  1.0  1.0  1.0  1.0  1.0  1.0  1.0  1.0  1.0  1.0   \n",
      "1  0.5  1.0 -1.0  0.0  0.0  0.0  0.0  0.0  0.0  0.0  0.0  0.0  0.0  0.0  0.0   \n",
      "2  0.0  0.0 -8.0  0.0  0.0  0.0  0.0  0.0  0.0  0.0  0.0  0.0  0.0  0.0  0.0   \n",
      "3  0.0  0.0 -4.0  0.0  0.0  0.0  0.0  0.0  0.0  0.0  0.0  0.0  0.0  0.0  0.0   \n",
      "4  0.0  0.0 -4.0  0.0  0.0  0.0  0.0  0.0  0.0  0.0  0.0  0.0  0.0  0.0  0.0   \n",
      "5 -2.0  0.0 -8.0 -4.0 -4.0 -4.0 -4.0 -4.0 -4.0 -4.0 -4.0 -4.0 -4.0 -4.0 -4.0   \n",
      "6  1.0  0.0  0.0  2.0  2.0  2.0  2.0  2.0  2.0  2.0  2.0  2.0  2.0  2.0  2.0   \n",
      "\n",
      "    15   16   17   18   19   20   21   22    23   24   25    26      27  \\\n",
      "0  1.0  2.0  1.0  1.0  0.0  0.0  0.0  0.0 -0.25  0.0  0.0 -0.25     1.0   \n",
      "1  0.0 -1.0  0.0  0.0  0.0  0.0  0.0  0.0  0.25  0.0  0.0  0.25     0.0   \n",
      "2  0.0 -8.0  0.0  0.0  0.0  0.0  0.0  0.0  2.00  1.0 -1.0  0.00     0.0   \n",
      "3  0.0 -4.0  0.0  0.0  1.0  0.0  0.0  0.0  1.00  0.0 -1.0  0.00     0.0   \n",
      "4  0.0 -4.0  0.0  0.0  0.0 -1.0  1.0  0.0  1.00  0.0  0.0  0.00     0.0   \n",
      "5 -4.0 -8.0 -4.0  0.0  0.0  0.0  0.0  1.0  1.00  0.0  0.0  1.00     0.0   \n",
      "6  2.0  0.0  2.0  0.0  0.0  0.0  0.0  0.0  0.50  0.0 -1.0 -0.50  1001.0   \n",
      "\n",
      "       28      29      30      31      32   33  \n",
      "0     0.0    0.25     0.0     0.0   -0.25  1.5  \n",
      "1     0.0   -0.25     0.0     0.0    0.25  0.5  \n",
      "2     0.0   -2.00    -1.0     1.0    0.00  0.0  \n",
      "3     0.0   -1.00     0.0     1.0    0.00  0.0  \n",
      "4     0.0   -1.00     0.0     0.0    0.00  0.0  \n",
      "5    -1.0   -1.00     0.0     0.0    1.00  0.0  \n",
      "6  1000.0  999.50  1000.0  1001.0  999.50  1.0  \n",
      "\n",
      "El valor de la función objetivo es: nan\n"
     ]
    }
   ],
   "source": [
    "# a) es un problema que no está acotado\n",
    "c = np.array([1, 1, 1, 1, 1, 1, 1, 1, 1, 1, 1, 1, 1, 1, 1, 1, 1, 1,-1,-1,0,0,0,0,0,0,0])\n",
    "b = np.array([2,2,0,0,0,2])\n",
    "A = np.array([        \n",
    "    [1, 1, 1, 1, 1, 1, 1, 1, 1, 1, 1, 1, 1, 1, 1, 1, 1, 1, 1, 0, 0, 0, 0, 0, 0, 0, 0],\n",
    "    [4, 4, 4, 4, 4, 4, 4, 4, 4, 4, 4, 4, 4, 4, 4, 4, 4, 4, 0, 0, 0, 0,-1, 0, 0, 0, 0],\n",
    "    [0, 0, 4, 0, 0, 0, 0, 0, 0, 0, 0, 0, 0, 0, 0, 0, 4, 0, 0, 0, 1,-1, 0,-1, 0, 0, 0],\n",
    "    [0, 0, 0, 0, 0, 0, 0, 0, 0, 0, 0, 0, 0, 0, 0, 0, 0, 0, 0, 1,-1, 1, 0, 0,-1, 0, 0],\n",
    "    [0, 0, 0, 0, 0, 0, 0, 0, 0, 0, 0, 0, 0, 0, 0, 0, 0, 0, 0, 1, 1,-1, 0, 0, 0,-1, 0],\n",
    "    [2, 4, 0, 0, 0, 0, 0, 0, 0, 0, 0, 0, 0, 0, 0, 0, 0, 0, 0, 0, 1,-1, 0, 0, 0, 0, 1]])\n",
    "t, z = solver(A, b, c, 1000)\n",
    "print(\"Tabla final:\")\n",
    "printMat(t)\n",
    "print(f\"\\nEl valor de la función objetivo es: {z}\")"
   ]
  },
  {
   "cell_type": "code",
   "execution_count": 30,
   "metadata": {},
   "outputs": [
    {
     "name": "stdout",
     "output_type": "stream",
     "text": [
      "Tabla inicial:\n",
      "        0       1    2       3       4       5       6       7    8    9   10  \\\n",
      "0     1.0     1.0 -1.0     0.0    -1.0     0.0     0.0     0.0  1.0  0.0  0.0   \n",
      "1     1.0     1.0  2.0     3.0     0.0     0.0     1.0     0.0  0.0  1.0  0.0   \n",
      "2     1.0     2.0 -1.0     2.0     0.0     0.0     0.0     1.0  0.0  0.0  1.0   \n",
      "3     0.0     1.0  0.0     2.0     0.0    -1.0     0.0     0.0  0.0  0.0  0.0   \n",
      "4 -2997.0 -4994.0 -1.0 -6998.0  1000.0  1000.0 -1000.0 -1000.0  0.0  0.0  0.0   \n",
      "\n",
      "    11       12  \n",
      "0  0.0      2.0  \n",
      "1  0.0     10.0  \n",
      "2  0.0      6.0  \n",
      "3  1.0      5.0  \n",
      "4  0.0 -23000.0  \n",
      "\n",
      "ESPACIO DE SOLUCIÓN VACÍO; última versión de la tabla:\n",
      "Tabla final:\n",
      "     0    1    2    3       4      5    6      7    8       9      10   11  \\\n",
      "0  0.0  0.5  0.0  1.0     0.0   -0.5  0.0    0.0  0.0     0.0     0.0  0.5   \n",
      "1  1.0  1.0 -1.0  0.0     0.0    1.0  0.0    1.0  0.0     0.0     1.0 -1.0   \n",
      "2  0.0 -1.5  3.0  0.0     0.0    0.5  1.0   -1.0  0.0     1.0    -1.0 -0.5   \n",
      "3  0.0  0.0  0.0  0.0    -1.0   -1.0  0.0   -1.0  1.0     0.0    -1.0  1.0   \n",
      "4  0.0  2.0  2.0  0.0  1000.0  998.0  0.0  997.0  0.0  1000.0  1997.0  2.0   \n",
      "\n",
      "       12  \n",
      "0     2.5  \n",
      "1     1.0  \n",
      "2     1.5  \n",
      "3     1.0  \n",
      "4 -1008.0  \n",
      "\n",
      "El valor de la función objetivo es: nan\n"
     ]
    }
   ],
   "source": [
    "# a) es un problema con región vacía\n",
    "c = np.array([3, 6, -1, 2, 0, 0, 0, 0])\n",
    "b = np.array([2, 10, 6, 5])\n",
    "A = np.array([\n",
    "    [1, 1, -1, 0, -1, 0, 0, 0],\n",
    "    [1, 1, 2, 3, 0, 0, 1, 0],\n",
    "    [1, 2, -1, 2, 0, 0, 0, 1],\n",
    "    [0, 1, 0, 2, 0, -1, 0, 0]])\n",
    "\n",
    "t, z = solver(A, b, c, 1000)\n",
    "print(\"Tabla final:\")\n",
    "printMat(t)\n",
    "print(f\"\\nEl valor de la función objetivo es: {z}\")"
   ]
  },
  {
   "cell_type": "code",
   "execution_count": 24,
   "metadata": {},
   "outputs": [
    {
     "data": {
      "text/plain": [
       "5"
      ]
     },
     "execution_count": 24,
     "metadata": {},
     "output_type": "execute_result"
    }
   ],
   "source": [
    "len(t)"
   ]
  },
  {
   "cell_type": "code",
   "execution_count": 28,
   "metadata": {},
   "outputs": [
    {
     "data": {
      "text/plain": [
       "array([0.0, 1000.0, 1997.0, 2.0])"
      ]
     },
     "execution_count": 28,
     "metadata": {},
     "output_type": "execute_result"
    }
   ],
   "source": [
    "t[-1][-len(t):-1]"
   ]
  },
  {
   "cell_type": "code",
   "execution_count": null,
   "metadata": {},
   "outputs": [],
   "source": []
  }
 ],
 "metadata": {
  "kernelspec": {
   "display_name": "Python 3",
   "language": "python",
   "name": "python3"
  },
  "language_info": {
   "codemirror_mode": {
    "name": "ipython",
    "version": 3
   },
   "file_extension": ".py",
   "mimetype": "text/x-python",
   "name": "python",
   "nbconvert_exporter": "python",
   "pygments_lexer": "ipython3",
   "version": "3.8.3"
  }
 },
 "nbformat": 4,
 "nbformat_minor": 5
}
